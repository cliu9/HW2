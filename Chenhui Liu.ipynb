# -*- coding: utf-8 -*-
"""
Created on Sun Feb 12 21:32:38 2017

@author: cliu9
"""
## CIVE-650C Homework#2
#################################################################################
## Part I
import numpy

## a. Initialize a 2*2 numpy array
x=numpy.array([[3,6],[5,8]])

## b. Display the contents of the x
print(x)

## c. Display the type of the x
type(x)

## d. Display the size of the x
x.size

## e. Display the data type of the array elements in x
x.dtype

## f. Force the data in the x to be converted to float type and display the elements
x=numpy.array(x,dtype=numpy.float64)
print(x)

## g. Create a new array y and store the transpose of the above created 2*2 array (i.e. transpose of x)
y=numpy.transpose(x)

## h. Do a matrix addition x+y and sotre it as a newy array "a" and display the contents of a
a=x+y
print(a)

## Do a matrix multiplication "x*y" and store it as a newy array "b" and display the contents of b
b=x*y
print(b)


#################################################################################
## Part II
import numpy as np
import matplotlib.pyplot as plt

## a. Use subplot function to plot the following functions:
    # y=sin(x)
    # y=cost(x)
    # y=tan(x)
    # y=x
x=np.arange(0,5,0.1)
y1=np.sin(x)
y2=np.cos(x)
y3=np.tan(x)
y4=x

plt.figure(1)
plt.subplot(221)
plt.plot(x,y1)
plt.subplot(222)
plt.plot(x,y2)
plt.subplot(223)
plt.plot(x,y3)
plt.subplot(224)
plt.plot(x,y4)
plt.show()


## b. Plot the graphs for the above mentioned functions on the same figure using hold function. Assign different colour, thickness and linewidth for the different functions
plt.figure(1)
plt.hold(True)
plt.plot(x,y1,'r',linewidth=1)
plt.plot(x,y2,'g',linewidth=2)
plt.plot(x,y3,'b',linewidth=3)
plt.plot(x,y4,'c',linewidth=4)
plt.show()


## c. Plot the monthly_temp_data.csv data
## Import the above csv file using csv.reader
## Read the file as a list
## Store the values for temp and day in separate lists (remember to remove the headers)
## Plot the graph for Date vs. Temp with title for the plot as "Day vs. Temp", xlable as Date and ylabel as Temp.

import csv
import numpy as np
import matplotlib.pyplot as plt

with open("C:/Users/cliu9/Dropbox/Courses/CIVE 650C/Ass#2/Temperature.csv",'r') as f:
   dat=list(csv.reader(f))

del dat[0]    
dat=np.array(dat)
date=dat[:,0].tolist()
temp=dat[:,1].tolist()

plt.figure(1)    
plt.plot(date,temp)
plt.xlabel('Date')
plt.ylabel('Temperature')
plt.title('Day vs. Temperature')
plt.show()
    
    
    
    
